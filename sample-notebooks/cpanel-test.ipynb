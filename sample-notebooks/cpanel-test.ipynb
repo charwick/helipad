{
 "cells": [
  {
   "cell_type": "markdown",
   "metadata": {},
   "source": [
    "# Control Panel Test\n",
    "\n",
    "This is not a model and will not run. It does, however, register parameters of every available type in order to test the rendering of the control panel.\n",
    "\n",
    "## Preamble"
   ]
  },
  {
   "cell_type": "code",
   "execution_count": null,
   "metadata": {},
   "outputs": [],
   "source": [
    "from helipad import Helipad\n",
    "# from utility import CobbDouglas\n",
    "\n",
    "heli = Helipad()\n",
    "heli.name = 'Test'\n",
    "\n",
    "#A handful of breeds and goods\n",
    "breeds = [\n",
    "\t('hobbit', 'jam', '#D73229'),\n",
    "\t('dwarf', 'axe', '#2D8DBE'),\n",
    "\t('elf', 'lembas', '#CCBB22')\n",
    "]\n",
    "AgentGoods = {}\n",
    "for b in breeds:\n",
    "\theli.addBreed(b[0], b[2], prim='agent')\n",
    "\theli.addGood(b[1], b[2])\n",
    "\n",
    "def gcallback(model, name, val):\n",
    "\tprint(name, '=', val)\n",
    "\n",
    "def icallback(model, name, item, val):\n",
    "\tprint(name, '/', item, '=', val)"
   ]
  },
  {
   "cell_type": "markdown",
   "metadata": {},
   "source": [
    "## Add Parameters"
   ]
  },
  {
   "cell_type": "code",
   "execution_count": null,
   "metadata": {},
   "outputs": [],
   "source": [
    "heli.addParameter('gslider', 'Global slider', 'slider', dflt=1.5, opts={'low': 1, 'high': 5, 'step': 0.1}, callback=gcallback)\n",
    "heli.addParameter('gcheck', 'Global check', 'check', dflt=True, callback=gcallback)\n",
    "heli.addParameter('gmenu', 'Global menu', 'menu', dflt='two', opts={\n",
    "\t'one': 'Option one',\n",
    "\t'two': 'Option two',\n",
    "\t'three': 'Option three'\n",
    "}, callback=gcallback)\n",
    "heli.addParameter('gcheckentry', 'Global Checkentry', 'checkentry', dflt='They\\'re taking the hobbits to Isengard', callback=gcallback)\n",
    "heli.addParameter('glogslider', 'Global Logslider', 'slider', dflt=8, opts=[1,2,3,5,8,13,21,34], callback=gcallback)\n",
    "\n",
    "heli.addBreedParam('islider', 'Item Slider', 'slider', dflt={'hobbit': 0.1, 'dwarf': 0.3}, opts={'low':0, 'high': 1, 'step': 0.01}, desc='A slider that takes a value for each breed', callback=icallback)\n",
    "heli.addGoodParam('icheck', 'Item Check', 'check', dflt={'jam': False, 'axe': True}, callback=icallback)\n",
    "heli.addBreedParam('imenu', 'Item Menu', 'menu', dflt={'hobbit': 'three', 'dwarf': 'two'}, opts={\n",
    "\t'one': 'Option one',\n",
    "\t'two': 'Option two',\n",
    "\t'three': 'Option three'\n",
    "}, desc='A menu that takes a value for each breed', callback=icallback)\n",
    "heli.addGoodParam('icheckentry', 'Item Checkentry', 'checkentry', dflt={'jam': False, 'axe': 'wood'}, callback=icallback)\n",
    "heli.addGoodParam('ilogslider', 'Item Logslider', 'slider', dflt={'axe': 5, 'lembas': 21}, opts=[1,2,3,5,8,13,21,34], callback=icallback)\n",
    "\n",
    "heli.addParameter('gcheckgrid', 'Global Checkgrid', 'checkgrid',\n",
    "\topts={'gondor':('Gondor', 'Currently calling for aid'), 'isengard':'Isengard', 'rohan':'Rohan', 'rivendell':'Rivendell', 'khazad':('Khazad-dûm', 'Nice diacritic')},\n",
    "\tdflt=['gondor', 'rohan', 'khazad'], callback=gcallback\n",
    ")"
   ]
  },
  {
   "cell_type": "markdown",
   "metadata": {},
   "source": [
    "## Launch Control Panel"
   ]
  },
  {
   "cell_type": "code",
   "execution_count": null,
   "metadata": {
    "scrolled": false
   },
   "outputs": [],
   "source": [
    "heli.launchCpanel()"
   ]
  }
 ],
 "metadata": {
  "kernelspec": {
   "display_name": "Python 3",
   "language": "python",
   "name": "python3"
  },
  "language_info": {
   "codemirror_mode": {
    "name": "ipython",
    "version": 3
   },
   "file_extension": ".py",
   "mimetype": "text/x-python",
   "name": "python",
   "nbconvert_exporter": "python",
   "pygments_lexer": "ipython3",
   "version": "3.9.0"
  }
 },
 "nbformat": 4,
 "nbformat_minor": 1
}
