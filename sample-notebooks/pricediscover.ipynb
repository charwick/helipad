{
 "cells": [
  {
   "cell_type": "code",
   "execution_count": null,
   "metadata": {},
   "outputs": [],
   "source": [
    "#===============\n",
    "# SETUP\n",
    "#===============\n",
    "\n",
    "from helipad import Helipad\n",
    "from helipad.utility import CobbDouglas\n",
    "from math import sqrt, exp, floor\n",
    "import random\n",
    "\n",
    "heli = Helipad()\n",
    "heli.name = 'Price Discover'\n",
    "heli.order = 'match'\n",
    "\n",
    "heli.addParameter('ratio', 'Log Endowment Ratio', 'slider', dflt=0, opts={'low': -3, 'high': 3, 'step': 0.5})\n",
    "heli.addGood('shmoo','11CC00', lambda breed: random.randint(1,1000))\n",
    "heli.addGood('soma', 'CC0000', lambda breed: random.randint(1,floor(exp(heli.param('ratio'))*1000)))\n",
    "\n",
    "heli.params['agents_agent'].opts['step'] = 2 #Make sure we don't get stray agents"
   ]
  },
  {
   "cell_type": "code",
   "execution_count": null,
   "metadata": {},
   "outputs": [],
   "source": [
    "#===============\n",
    "# BEHAVIOR\n",
    "#===============\n",
    "\n",
    "@heli.hook\n",
    "def agentInit(agent, model):\n",
    "\tagent.lastPeriod = 0\t\n",
    "\tagent.utility = CobbDouglas(['shmoo', 'soma'])\n",
    "\n",
    "@heli.hook\n",
    "def match(agents, primitive, model, stage):\n",
    "\tmyEndowU = agents[0].utility.calculate(agents[0].stocks)\n",
    "\ttheirEndowU = agents[1].utility.calculate(agents[1].stocks)\n",
    "\t\n",
    "\t#Get the endpoints of the contract curve\n",
    "\t#Contract curve isn't linear unless the CD exponents are both 0.5. If not, *way* more complicated\n",
    "\tcc1Soma = myEndowU * (sum([a.stocks['soma'] for a in agents])/sum([a.stocks['shmoo'] for a in agents])) ** 0.5\n",
    "\tcc2Soma = sum([a.stocks['soma'] for a in agents]) - theirEndowU  * (sum([a.stocks['soma'] for a in agents])/sum([a.stocks['shmoo'] for a in agents])) ** 0.5\n",
    "\tcc1Shmoo = sum([a.stocks['shmoo'] for a in agents])/sum([a.stocks['soma'] for a in agents]) * cc1Soma\n",
    "\tcc2Shmoo = sum([a.stocks['shmoo'] for a in agents])/sum([a.stocks['soma'] for a in agents]) * cc2Soma\n",
    "\t\t\n",
    "\t#Calculate demand: choose a random point on the contract curve\n",
    "\tr = random.random()\n",
    "\tsomaDemand = r*cc1Soma + (1-r)*cc2Soma - agents[0].stocks['soma']\n",
    "\tshmooDemand = r*cc1Shmoo + (1-r)*cc2Shmoo - agents[0].stocks['shmoo']\n",
    "\t\n",
    "\t#Do the trades\n",
    "\tif abs(somaDemand) > 0.1 and abs(shmooDemand) > 0.1:\n",
    "\t\tagents[0].trade(agents[1], 'soma', -somaDemand, 'shmoo', shmooDemand)\n",
    "\t\tagents[0].lastPrice = -somaDemand/shmooDemand\n",
    "\t\tagents[1].lastPrice = -somaDemand/shmooDemand\n",
    "\telse:\n",
    "\t\tagents[0].lastPrice = None\n",
    "\t\tagents[1].lastPrice = None\n",
    "\t\t\t\n",
    "\t#Record data\n",
    "\tagents[0].utils = agents[0].utility.consume({'soma': agents[0].stocks['soma'], 'shmoo': agents[0].stocks['shmoo']})\n",
    "\tagents[1].utils = agents[1].utility.consume({'soma': agents[1].stocks['soma'], 'shmoo': agents[1].stocks['shmoo']})\n",
    "\t\n",
    "\n",
    "#Stop the model when we're basically equilibrated\n",
    "@heli.hook\n",
    "def modelStep(model, stage):\n",
    "\tif model.t > 1 and model.data.getLast('demand-shmoo') < 20 and model.data.getLast('demand-soma') < 20:\n",
    "\t\tmodel.terminate()"
   ]
  },
  {
   "cell_type": "code",
   "execution_count": null,
   "metadata": {},
   "outputs": [],
   "source": [
    "#===============\n",
    "# CONFIGURATION\n",
    "#===============\n",
    "\n",
    "heli.data.addReporter('ssprice', heli.data.agentReporter('lastPrice', 'agent', stat='gmean', percentiles=[0,100]))\n",
    "heli.addPlot('price', 'Price', logscale=True, selected=True)\n",
    "heli.addSeries('price', 'ssprice', 'Soma/Shmoo Price', '119900')\n",
    "\n",
    "for p in ['demand', 'utility']: heli.plots[p].active(True)"
   ]
  },
  {
   "cell_type": "code",
   "execution_count": null,
   "metadata": {
    "scrolled": false
   },
   "outputs": [],
   "source": [
    "#===============\n",
    "# CONTROL PANEL\n",
    "#===============\n",
    "\n",
    "heli.launchCpanel()"
   ]
  },
  {
   "cell_type": "code",
   "execution_count": null,
   "metadata": {
    "scrolled": false
   },
   "outputs": [],
   "source": [
    "#===============\n",
    "# RUN\n",
    "#===============\n",
    "\n",
    "heli.launchPlots()"
   ]
  }
 ],
 "metadata": {
  "kernelspec": {
   "display_name": "Python 3",
   "language": "python",
   "name": "python3"
  },
  "language_info": {
   "codemirror_mode": {
    "name": "ipython",
    "version": 3
   },
   "file_extension": ".py",
   "mimetype": "text/x-python",
   "name": "python",
   "nbconvert_exporter": "python",
   "pygments_lexer": "ipython3",
   "version": "3.8.3"
  }
 },
 "nbformat": 4,
 "nbformat_minor": 1
}
