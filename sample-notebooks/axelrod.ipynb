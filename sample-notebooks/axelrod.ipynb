{
 "cells": [
  {
   "cell_type": "markdown",
   "metadata": {},
   "source": [
    "# Axelrod Tournament Model\n",
    "\n",
    "This model is a partial recreation of the tournament first detailed in Axelrod (1981), [\"Effective Choice in the Prisoner's Dilemma\"](https://www.jstor.org/stable/173932). Agents are paired off and play a repeated prisoner's dilemma against each other for some number of rounds. Breeds are defined by a strategy in this game. In this agent-based instantiation, agents are randomly paired rather than played round-robin. An agent will, therefore, be less likely to play itself for low agents-per-strategy, but this difference disappears as agents-per-strategy approaches infinity.\n",
    "\n",
    "This model demonstrates the following features of Helipad:\n",
    "* A matching model\n",
    "* A checkgrid parameter\n",
    "* A button shock\n",
    "* Dynamic registration of breeds at model launch time\n",
    "\n",
    "## Setup"
   ]
  },
  {
   "cell_type": "code",
   "execution_count": null,
   "metadata": {},
   "outputs": [],
   "source": [
    "from helipad import Helipad\n",
    "import numpy.random as random\n",
    "from numpy import mean\n",
    "\n",
    "heli = Helipad()\n",
    "heli.name = 'Axelrod Tournament'\n",
    "heli.order = 'match'\n",
    "\n",
    "heli.params['num_agent'].type = 'hidden' #So we can postpone breed determination until the end\n",
    "\n",
    "#Initial parameter values match the payoffs in Table 1\n",
    "heli.addParameter('cc', 'C-C payoff', 'slider', dflt=3, opts={'low': 0, 'high': 10, 'step': 0.5})\n",
    "heli.addParameter('dc', 'D-C payoff', 'slider', dflt=5, opts={'low': 0, 'high': 10, 'step': 0.5})\n",
    "heli.addParameter('cd', 'C-D payoff', 'slider', dflt=0, opts={'low': 0, 'high': 10, 'step': 0.5})\n",
    "heli.addParameter('dd', 'D-D payoff', 'slider', dflt=1, opts={'low': 0, 'high': 10, 'step': 0.5})\n",
    "heli.addParameter('rounds', 'Rounds per period', 'slider', dflt=200, opts={'low': 10, 'high': 1000, 'step': 10})\n",
    "heli.addParameter('n', 'Agents per strategy', 'slider', dflt=3, opts={'low': 1, 'high': 10, 'step': 1}, runtime=False)\n",
    "\n",
    "@heli.button(name='Reset Wealth')\n",
    "def reset(model):\n",
    "\tfor a in model.agents['agent']: a.stocks['payoff'] = 0\n",
    "\n",
    "heli.addGood('payoff','#009900')\n",
    "\n",
    "#Store associated colors and default-checked state to cycle over later\n",
    "strategies = {\n",
    "\t'alwaysCooperate': (True, '#00CC00'),\n",
    "\t'alwaysDefect': (True, '#CC0000'),\n",
    "\t'randomly': (True, '#006600'),\n",
    "\t'TFT': (True, '#CC9900', 'Cooperates on the first round and thereafter plays the move last played by the opponent.'),\n",
    "\t'Tullock': (False, '#663311', 'Cooperates for the first 11 rounds then randomly cooperates 10% less often than the opponent has in the previous 10 rounds.'),\n",
    "\t'Nydegger': (False, '#003399', 'A stooge which has a memory and appears to be trustworthy, potentially cooperative, but not gullible.'),\n",
    "\t'Grofman': (False, '#9999CC', 'Cooperates with probability 2/7 if the players did different things on the previous move, otherwise cooperates.'),\n",
    "\t'Shubik': (False, '#666600', 'Punishes defection with an incrementing string of retaliations.'),\n",
    "\t'Grudger': (True, '#000066', 'Cooperates until the opponent defects, and then defects thereafter'),\n",
    "\t'Davis': (False, '#660000', 'Cooperates for 10 periods, and then plays Grudger.'),\n",
    "\t'Feld': (False, '#000000', 'Plays tit-for-tat, but with P[Cooperate] declining to 0.5 as the rounds approach the end'),\n",
    "\t'Joss': (False, '#CCCCCC', 'Tit-For-Tat, except cooperation is only with 90% probability'),\n",
    "}\n",
    "\n",
    "#Build the strategies toggle\n",
    "heli.addParameter('strategies', 'Strategies', 'checkgrid',\n",
    "\topts = {k: (k, v[2] if len(v)>2 else None) for k,v in strategies.items()},\n",
    "\tdflt = [k for k,v in strategies.items() if v[0]],\n",
    "\truntime=False, columns=2\n",
    ")"
   ]
  },
  {
   "cell_type": "markdown",
   "metadata": {},
   "source": [
    "## Strategy Definitions\n",
    "\n",
    "Return True to cooperate, and False to defect."
   ]
  },
  {
   "cell_type": "code",
   "execution_count": null,
   "metadata": {},
   "outputs": [],
   "source": [
    "def TFT(rnd, history, own):\n",
    "\tif not len(history): return True\n",
    "\telse: return history[-1]\n",
    "\n",
    "def alwaysCooperate(rnd, history, own): return True\n",
    "\n",
    "def alwaysDefect(rnd, history, own): return False\n",
    "\n",
    "def randomly(rnd, history, own): return random.choice(2, 1)[0]\n",
    "\n",
    "def Tullock(rnd, history, own):\n",
    "\tif len(history) < 11: return True\n",
    "\trate = mean(history[-10:])-.1\n",
    "\tif rate < 0: rate = 0\n",
    "\treturn random.choice(2, 1, p=[1-rate, rate])[0]\n",
    "\n",
    "def Nydegger(rnd, history, own):\n",
    "\tif len(history) <= 2: return TFT(rnd, history, own)\n",
    "\tif len(history) == 3:\n",
    "\t\tif not history[0] and not own[1] and history[1]: return False\n",
    "\t\telse: return TFT(rnd, history, own)\n",
    "\t\t\n",
    "\tdef a(i):\n",
    "\t\tn=0\n",
    "\t\tif not history[-i]: n += 2\n",
    "\t\tif not own[-i]: n += 1\n",
    "\t\treturn n\n",
    "\tA = 16*a(1) + 4*a(2) + a(3)\n",
    "\treturn A not in [1,6,7,17,22,23,26,29,30,31,33,38,39,45,49,54,55,58,61]\n",
    "\n",
    "def Grofman(rnd, history, own):\n",
    "\tif not len(history): return True\n",
    "\telif history[-1] ^ own[-1]: return random.choice(2, 1, p=[5/7, 2/7])[0]\n",
    "\telse: return True\n",
    "\n",
    "def Shubik(rnd, history, own):\n",
    "\tk=0 #The number of rounds to retaliate\n",
    "\trs=0 #the number of rounds I've already retaliated so far\n",
    "\tfor r, me in enumerate(own):\n",
    "\t\tif me and not history[r]: k += 1 #Increment k every time the opponent defected while I wasn't retaliating\n",
    "\t\tif not me: rs += 1\n",
    "\t\telse: rs = 0 #Make sure we're only counting current retaliations\n",
    "\t\n",
    "\tif not len(history): return True \n",
    "\tif not rs and not history[-1]: return False #Start retaliation if the opponent defected last period\n",
    "\tif rs and rs < k: return False #Keep retaliating if you've started a string of defections and haven't reached the limit\n",
    "\treturn True\n",
    "\n",
    "def Grudger(rnd, history, own):\n",
    "\treturn False not in history\n",
    "\n",
    "def Davis(rnd, history, own):\n",
    "\tif len(history) < 10: return True\n",
    "\telse: return Grudger(rnd, history, own)\n",
    "\n",
    "def Feld(rnd, history, own):\n",
    "\tif not len(history): return True\n",
    "\tif not history[-1]: return False\n",
    "\t\n",
    "\tpDef = rnd/heli.param('rounds')/2\n",
    "\treturn random.choice(2, 1, p=[pDef, 1-pDef])[0]\n",
    "\n",
    "def Joss(rnd, history, own):\n",
    "\tif not len(history) or history[-1]: return random.choice(2, 1, p=[0.1, 0.9])[0]\n",
    "\tif not history[-1]: return False"
   ]
  },
  {
   "cell_type": "code",
   "execution_count": null,
   "metadata": {},
   "outputs": [],
   "source": [
    "#===============\n",
    "# MODEL LOGIC\n",
    "#===============\n",
    "\n",
    "@heli.hook\n",
    "def match(agents, primitive, model, stage):\n",
    "\th1, h2 = ([], [])\n",
    "\tfor rnd in range(int(model.param('rounds'))):\n",
    "\t\t#Play\n",
    "\t\tresponse1 = globals()[agents[0].breed](rnd, h2, h1)\n",
    "\t\tresponse2 = globals()[agents[1].breed](rnd, h1, h2)\n",
    "\t\th1.append(response1)\n",
    "\t\th2.append(response2)\n",
    "\t\n",
    "\t\t#Payoffs\n",
    "\t\tagents[0].stocks['payoff'] += model.param(('c' if response1 else 'd') + ('c' if response2 else 'd'))\n",
    "\t\tagents[1].stocks['payoff'] += model.param(('c' if response2 else 'd') + ('c' if response1 else 'd'))\n",
    "\n",
    "#Visualization\n",
    "from helipad.visualize import TimeSeries\n",
    "viz = heli.useVisual(TimeSeries)\n",
    "plot = viz.addPlot('payoffs', 'Payoffs')\n",
    "        \n",
    "#Add breeds last-minute so we can toggle them in the control panel\n",
    "@heli.hook\n",
    "def modelPreSetup(model):\n",
    "\t\n",
    "\t#Clear breeds from the previous run\n",
    "\tfor b in model.primitives['agent'].breeds:\n",
    "\t\tmodel.data.removeReporter(b+'-proportion')\n",
    "\tmodel.primitives['agent'].breeds = {}\n",
    "\t\n",
    "\tfor k in model.param('strategies'):\n",
    "\t\tmodel.addBreed(k, strategies[k][1])\n",
    "\t\n",
    "\tmodel.param('num_agent', len(model.primitives['agent'].breeds)*model.param('n')) #Three of each strategy, for speed\n",
    "\t\n",
    "\tfor b, d in model.primitives['agent'].breeds.items():\n",
    "\t\tmodel.data.addReporter(b+'-proportion', proportionReporter(b))\n",
    "\t\tplot.addSeries(b+'-proportion', b, d.color)"
   ]
  },
  {
   "cell_type": "markdown",
   "metadata": {},
   "source": [
    "## Reporters and Plots"
   ]
  },
  {
   "cell_type": "code",
   "execution_count": null,
   "metadata": {},
   "outputs": [],
   "source": [
    "#Tally up the total payoff once each period, so we don't have to do it on every agent\n",
    "@heli.hook\n",
    "def dataCollect(data, t):\n",
    "\tdata.model.totalP = data.agentReporter('stocks', good='payoff', stat='sum')(data.model)\n",
    "\n",
    "def proportionReporter(breed):\n",
    "\tdef func(model):\n",
    "\t\treturn model.data.agentReporter('stocks', breed=breed, good='payoff', stat='sum')(model)/model.totalP\n",
    "\treturn func"
   ]
  },
  {
   "cell_type": "markdown",
   "metadata": {},
   "source": [
    "## Launch Control Panel"
   ]
  },
  {
   "cell_type": "code",
   "execution_count": null,
   "metadata": {
    "scrolled": false
   },
   "outputs": [],
   "source": [
    "heli.launchCpanel()"
   ]
  },
  {
   "cell_type": "markdown",
   "metadata": {},
   "source": [
    "## Run Model"
   ]
  },
  {
   "cell_type": "code",
   "execution_count": null,
   "metadata": {
    "scrolled": false
   },
   "outputs": [],
   "source": [
    "heli.launchVisual()"
   ]
  }
 ],
 "metadata": {
  "kernelspec": {
   "display_name": "Python 3",
   "language": "python",
   "name": "python3"
  },
  "language_info": {
   "codemirror_mode": {
    "name": "ipython",
    "version": 3
   },
   "file_extension": ".py",
   "mimetype": "text/x-python",
   "name": "python",
   "nbconvert_exporter": "python",
   "pygments_lexer": "ipython3",
   "version": "3.9.1"
  }
 },
 "nbformat": 4,
 "nbformat_minor": 1
}
